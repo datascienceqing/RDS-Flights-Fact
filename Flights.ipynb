{
 "cells": [
  {
   "cell_type": "code",
   "execution_count": 1,
   "metadata": {
    "collapsed": true
   },
   "outputs": [],
   "source": [
    "import os\n",
    "import csv\n",
    "import re\n",
    "import glob\n",
    "import math\n",
    "import psycopg2\n",
    "import numpy as np\n",
    "import pandas as pd\n",
    "#from sql_queries import *\n",
    "from IPython.core.display import HTML\n",
    "from IPython.display import display\n",
    "from datetime import datetime as dt\n",
    "from datetime import timedelta as td\n",
    "from dateutil import parser\n",
    "import matplotlib.pyplot as plt\n",
    "import seaborn as sns\n",
    "%matplotlib inline"
   ]
  },
  {
   "cell_type": "code",
   "execution_count": 2,
   "metadata": {
    "collapsed": true
   },
   "outputs": [],
   "source": [
    "pd.set_option('display.max_columns',999)"
   ]
  },
  {
   "cell_type": "code",
   "execution_count": 7,
   "metadata": {
    "collapsed": false
   },
   "outputs": [
    {
     "data": {
      "text/plain": [
       "['TRANSACTIONID|FLIGHTDATE|AIRLINECODE|AIRLINENAME|TAILNUM|FLIGHTNUM|ORIGINAIRPORTCODE|ORIGAIRPORTNAME|ORIGINCITYNAME|ORIGINSTATE|ORIGINSTATENAME|DESTAIRPORTCODE|DESTAIRPORTNAME|DESTCITYNAME|DESTSTATE|DESTSTATENAME|CRSDEPTIME|DEPTIME|DEPDELAY|TAXIOUT|WHEELSOFF|WHEELSON|TAXIIN|CRSARRTIME|ARRTIME|ARRDELAY|CRSELAPSEDTIME|ACTUALELAPSEDTIME|CANCELLED|DIVERTED|DISTANCE']"
      ]
     },
     "execution_count": 7,
     "metadata": {},
     "output_type": "execute_result"
    }
   ],
   "source": [
    "with open(r'./flights.txt', 'r') as f:\n",
    "    d_reader = csv.DictReader(f)\n",
    "    #get fieldnames from DictReader object and store in list\n",
    "    headers = d_reader.fieldnames\n",
    "headers\n"
   ]
  },
  {
   "cell_type": "code",
   "execution_count": 8,
   "metadata": {
    "collapsed": true
   },
   "outputs": [],
   "source": [
    "df = pd.read_csv(r'./flights.txt',sep='|',names=headers[0].split('|'),encoding='utf-8',skiprows=1)"
   ]
  },
  {
   "cell_type": "code",
   "execution_count": 9,
   "metadata": {
    "collapsed": false
   },
   "outputs": [
    {
     "data": {
      "text/plain": [
       "(1191805, 31)"
      ]
     },
     "execution_count": 9,
     "metadata": {},
     "output_type": "execute_result"
    }
   ],
   "source": [
    "df.shape"
   ]
  },
  {
   "cell_type": "code",
   "execution_count": 56,
   "metadata": {
    "collapsed": true
   },
   "outputs": [],
   "source": [
    "def to_t_delt(number):\n",
    "    if pd.isnull(number):\n",
    "        return None        \n",
    "    else:\n",
    "        return pd.to_timedelta(math.floor(number/100)*60+(number/100-math.floor(number/100))*100,'m')\n",
    "        "
   ]
  },
  {
   "cell_type": "code",
   "execution_count": 57,
   "metadata": {
    "collapsed": true
   },
   "outputs": [],
   "source": [
    "def to_t_delt2(number):\n",
    "    if pd.isnull(number):\n",
    "        return pd.to_timedelta(0,'m')        \n",
    "    else:\n",
    "        return pd.to_timedelta(number,'m')"
   ]
  },
  {
   "cell_type": "code",
   "execution_count": 58,
   "metadata": {
    "collapsed": true
   },
   "outputs": [],
   "source": [
    "df['FLIGHTDATE_']=pd.to_datetime(df['FLIGHTDATE'].astype(str),format='%Y%m%d')\n",
    "\n",
    "df['CRSDEPTIME_']=df['CRSDEPTIME'].apply(lambda x: to_t_delt(x))\n",
    "df['FLIGHTDATETIME_']=df['FLIGHTDATE_']+df['CRSDEPTIME_']"
   ]
  },
  {
   "cell_type": "code",
   "execution_count": 59,
   "metadata": {
    "collapsed": true
   },
   "outputs": [],
   "source": [
    "df['DEPTIME_']=df['DEPTIME'].apply(lambda x: to_t_delt(x))"
   ]
  },
  {
   "cell_type": "code",
   "execution_count": 104,
   "metadata": {
    "collapsed": true
   },
   "outputs": [],
   "source": [
    "df['CRSARRTIME_']=df['CRSARRTIME'].apply(lambda x: to_t_delt(x))"
   ]
  },
  {
   "cell_type": "code",
   "execution_count": 60,
   "metadata": {
    "collapsed": true
   },
   "outputs": [],
   "source": [
    "df['DEPDELAY_']=df['DEPDELAY'].apply(lambda x: to_t_delt2(x))"
   ]
  },
  {
   "cell_type": "code",
   "execution_count": 61,
   "metadata": {
    "collapsed": true
   },
   "outputs": [],
   "source": [
    "df['ARRDELAY_']=df['ARRDELAY'].apply(lambda x: to_t_delt2(x))"
   ]
  },
  {
   "cell_type": "code",
   "execution_count": 62,
   "metadata": {
    "collapsed": true
   },
   "outputs": [],
   "source": [
    "df['CRSELAPSEDTIME_']=df['CRSELAPSEDTIME'].apply(lambda x: to_t_delt2(x))"
   ]
  },
  {
   "cell_type": "code",
   "execution_count": 63,
   "metadata": {
    "collapsed": true
   },
   "outputs": [],
   "source": [
    "df['ACTUALELAPSEDTIME_']=df['ACTUALELAPSEDTIME'].apply(lambda x: to_t_delt2(x))"
   ]
  },
  {
   "cell_type": "code",
   "execution_count": 64,
   "metadata": {
    "collapsed": true
   },
   "outputs": [],
   "source": [
    "df['ARRTIME_']=df['ARRTIME'].apply(lambda x: to_t_delt(x))"
   ]
  },
  {
   "cell_type": "code",
   "execution_count": 65,
   "metadata": {
    "collapsed": true
   },
   "outputs": [],
   "source": [
    "df['NEXTDAYARR_']=(df['ARRTIME_']-df['DEPTIME_']).astype('timedelta64[m]')"
   ]
  },
  {
   "cell_type": "code",
   "execution_count": 66,
   "metadata": {
    "collapsed": true
   },
   "outputs": [],
   "source": [
    "df['DEPDELAYGT15_']=(df['DEPTIME_']-df['CRSDEPTIME_']).astype('timedelta64[m]')"
   ]
  },
  {
   "cell_type": "code",
   "execution_count": 159,
   "metadata": {
    "collapsed": true
   },
   "outputs": [],
   "source": [
    "df1=df[df['NEXTDAYARR_']<0]"
   ]
  },
  {
   "cell_type": "code",
   "execution_count": 146,
   "metadata": {
    "collapsed": true
   },
   "outputs": [],
   "source": [
    "df.drop(['1990'],axis=1,inplace=True)\n",
    "df['1990']=df.apply(lambda _:'1990-01-01 00:00:00',axis=1)"
   ]
  },
  {
   "cell_type": "code",
   "execution_count": 147,
   "metadata": {
    "collapsed": true
   },
   "outputs": [],
   "source": [
    "df['1990_d']=pd.to_datetime(df['1990'])"
   ]
  },
  {
   "cell_type": "code",
   "execution_count": 154,
   "metadata": {
    "collapsed": true
   },
   "outputs": [],
   "source": [
    "df['ARRTIME_D']=df['1990_d']+df['ARRTIME_']"
   ]
  },
  {
   "cell_type": "code",
   "execution_count": 157,
   "metadata": {
    "collapsed": true
   },
   "outputs": [],
   "source": [
    "df['CRSDEPTIME_D']=df['1990_d']+df['CRSDEPTIME_']"
   ]
  },
  {
   "cell_type": "code",
   "execution_count": 158,
   "metadata": {
    "collapsed": true
   },
   "outputs": [],
   "source": [
    "df['CRSARRTIME_D']=df['1990_d']+df['CRSARRTIME_']"
   ]
  },
  {
   "cell_type": "code",
   "execution_count": null,
   "metadata": {
    "collapsed": true
   },
   "outputs": [],
   "source": [
    "df['DEPTIME_D']=df['1990_d']+df['DEPTIME_']"
   ]
  },
  {
   "cell_type": "code",
   "execution_count": 161,
   "metadata": {
    "collapsed": false,
    "scrolled": true
   },
   "outputs": [
    {
     "data": {
      "text/html": [
       "<div>\n",
       "<style scoped>\n",
       "    .dataframe tbody tr th:only-of-type {\n",
       "        vertical-align: middle;\n",
       "    }\n",
       "\n",
       "    .dataframe tbody tr th {\n",
       "        vertical-align: top;\n",
       "    }\n",
       "\n",
       "    .dataframe thead th {\n",
       "        text-align: right;\n",
       "    }\n",
       "</style>\n",
       "<table border=\"1\" class=\"dataframe\">\n",
       "  <thead>\n",
       "    <tr style=\"text-align: right;\">\n",
       "      <th></th>\n",
       "      <th>FLIGHTDATETIME_</th>\n",
       "      <th>DEPTIME_D</th>\n",
       "      <th>ACTUALELAPSEDTIME</th>\n",
       "      <th>ARRTIME_D</th>\n",
       "      <th>NEXTDAYARR_</th>\n",
       "      <th>DEPDELAYGT15_</th>\n",
       "      <th>CRSARRTIME_D</th>\n",
       "    </tr>\n",
       "  </thead>\n",
       "  <tbody>\n",
       "    <tr>\n",
       "      <th>90</th>\n",
       "      <td>2002-09-15 20:20:00</td>\n",
       "      <td>1990-01-01 21:39:00</td>\n",
       "      <td>91.0</td>\n",
       "      <td>1990-01-01 00:10:00</td>\n",
       "      <td>-1289.0</td>\n",
       "      <td>79.0</td>\n",
       "      <td>1990-01-01 22:50:00</td>\n",
       "    </tr>\n",
       "    <tr>\n",
       "      <th>126</th>\n",
       "      <td>2001-05-12 18:05:00</td>\n",
       "      <td>1990-01-01 18:05:00</td>\n",
       "      <td>58.0</td>\n",
       "      <td>1990-01-01 18:03:00</td>\n",
       "      <td>-2.0</td>\n",
       "      <td>0.0</td>\n",
       "      <td>1990-01-01 18:10:00</td>\n",
       "    </tr>\n",
       "    <tr>\n",
       "      <th>272</th>\n",
       "      <td>2001-01-12 22:45:00</td>\n",
       "      <td>1990-01-01 23:05:00</td>\n",
       "      <td>63.0</td>\n",
       "      <td>1990-01-01 00:08:00</td>\n",
       "      <td>-1377.0</td>\n",
       "      <td>20.0</td>\n",
       "      <td>1990-01-01 23:38:00</td>\n",
       "    </tr>\n",
       "    <tr>\n",
       "      <th>576</th>\n",
       "      <td>1992-05-07 14:35:00</td>\n",
       "      <td>1990-01-01 14:49:00</td>\n",
       "      <td>58.0</td>\n",
       "      <td>1990-01-01 14:47:00</td>\n",
       "      <td>-2.0</td>\n",
       "      <td>14.0</td>\n",
       "      <td>1990-01-01 14:45:00</td>\n",
       "    </tr>\n",
       "    <tr>\n",
       "      <th>694</th>\n",
       "      <td>2000-09-22 12:55:00</td>\n",
       "      <td>1990-01-01 13:01:00</td>\n",
       "      <td>59.0</td>\n",
       "      <td>1990-01-01 13:00:00</td>\n",
       "      <td>-1.0</td>\n",
       "      <td>6.0</td>\n",
       "      <td>1990-01-01 13:05:00</td>\n",
       "    </tr>\n",
       "  </tbody>\n",
       "</table>\n",
       "</div>"
      ],
      "text/plain": [
       "        FLIGHTDATETIME_           DEPTIME_D  ACTUALELAPSEDTIME  \\\n",
       "90  2002-09-15 20:20:00 1990-01-01 21:39:00               91.0   \n",
       "126 2001-05-12 18:05:00 1990-01-01 18:05:00               58.0   \n",
       "272 2001-01-12 22:45:00 1990-01-01 23:05:00               63.0   \n",
       "576 1992-05-07 14:35:00 1990-01-01 14:49:00               58.0   \n",
       "694 2000-09-22 12:55:00 1990-01-01 13:01:00               59.0   \n",
       "\n",
       "              ARRTIME_D  NEXTDAYARR_  DEPDELAYGT15_        CRSARRTIME_D  \n",
       "90  1990-01-01 00:10:00      -1289.0           79.0 1990-01-01 22:50:00  \n",
       "126 1990-01-01 18:03:00         -2.0            0.0 1990-01-01 18:10:00  \n",
       "272 1990-01-01 00:08:00      -1377.0           20.0 1990-01-01 23:38:00  \n",
       "576 1990-01-01 14:47:00         -2.0           14.0 1990-01-01 14:45:00  \n",
       "694 1990-01-01 13:00:00         -1.0            6.0 1990-01-01 13:05:00  "
      ]
     },
     "execution_count": 161,
     "metadata": {},
     "output_type": "execute_result"
    }
   ],
   "source": [
    "df1[['FLIGHTDATETIME_','DEPTIME_D','ACTUALELAPSEDTIME','ARRTIME_D','NEXTDAYARR_','DEPDELAYGT15_','CRSARRTIME_D']].head(5)"
   ]
  },
  {
   "cell_type": "code",
   "execution_count": 148,
   "metadata": {
    "collapsed": false
   },
   "outputs": [
    {
     "name": "stdout",
     "output_type": "stream",
     "text": [
      "<class 'pandas.core.frame.DataFrame'>\n",
      "RangeIndex: 1191805 entries, 0 to 1191804\n",
      "Data columns (total 53 columns):\n",
      "TRANSACTIONID         1191805 non-null int64\n",
      "FLIGHTDATE            1191805 non-null int64\n",
      "AIRLINECODE           1191805 non-null object\n",
      "AIRLINENAME           1191805 non-null object\n",
      "TAILNUM               1034988 non-null object\n",
      "FLIGHTNUM             1191805 non-null int64\n",
      "ORIGINAIRPORTCODE     1191805 non-null object\n",
      "ORIGAIRPORTNAME       1191805 non-null object\n",
      "ORIGINCITYNAME        1191805 non-null object\n",
      "ORIGINSTATE           1180963 non-null object\n",
      "ORIGINSTATENAME       1180963 non-null object\n",
      "DESTAIRPORTCODE       1191805 non-null object\n",
      "DESTAIRPORTNAME       1191805 non-null object\n",
      "DESTCITYNAME          1191805 non-null object\n",
      "DESTSTATE             1180967 non-null object\n",
      "DESTSTATENAME         1180967 non-null object\n",
      "CRSDEPTIME            1191805 non-null int64\n",
      "DEPTIME               1163470 non-null float64\n",
      "DEPDELAY              1163470 non-null float64\n",
      "TAXIOUT               1011833 non-null float64\n",
      "WHEELSOFF             1011791 non-null float64\n",
      "WHEELSON              1010225 non-null float64\n",
      "TAXIIN                1010320 non-null float64\n",
      "CRSARRTIME            1191805 non-null int64\n",
      "ARRTIME               1161439 non-null float64\n",
      "ARRDELAY              1160545 non-null float64\n",
      "CRSELAPSEDTIME        1191383 non-null float64\n",
      "ACTUALELAPSEDTIME     1160545 non-null float64\n",
      "CANCELLED             1191805 non-null object\n",
      "DIVERTED              1191805 non-null object\n",
      "DISTANCE              1191805 non-null object\n",
      "FLIGHTDATE_           1191805 non-null datetime64[ns]\n",
      "CRSDEPTIME_           1191805 non-null timedelta64[ns]\n",
      "FLIGHTDATETIME_       1191805 non-null datetime64[ns]\n",
      "DEPTIME_              1163470 non-null timedelta64[ns]\n",
      "DEPDELAY_             1191805 non-null timedelta64[ns]\n",
      "ARRDELAY_             1191805 non-null timedelta64[ns]\n",
      "CRSELAPSEDTIME_       1191805 non-null timedelta64[ns]\n",
      "ACTUALELAPSEDTIME_    1191805 non-null timedelta64[ns]\n",
      "ARRTIME_              1161439 non-null timedelta64[ns]\n",
      "NEXTDAYARR_           1161439 non-null float64\n",
      "DEPDELAYGT15_         1163470 non-null float64\n",
      "MONTH                 1191805 non-null int64\n",
      "WEEKDAY               1191805 non-null int64\n",
      "YEAR                  1191805 non-null int64\n",
      "DISTANCE_             1191805 non-null int64\n",
      "DISTANCEGROUP         1191805 non-null object\n",
      "DESTAIRPORTNAME_      1191805 non-null object\n",
      "ORIGAIRPORTNAME_      1191805 non-null object\n",
      "AIRLINENAME_          1191805 non-null object\n",
      "CRSARRTIME_           1191805 non-null timedelta64[ns]\n",
      "1990                  1191805 non-null object\n",
      "1990_d                1191805 non-null datetime64[ns]\n",
      "dtypes: datetime64[ns](3), float64(12), int64(9), object(21), timedelta64[ns](8)\n",
      "memory usage: 481.9+ MB\n"
     ]
    }
   ],
   "source": [
    "df.info()"
   ]
  },
  {
   "cell_type": "code",
   "execution_count": 69,
   "metadata": {
    "collapsed": true
   },
   "outputs": [],
   "source": [
    "ts=df.groupby(['ORIGAIRPORTNAME','ORIGINAIRPORTCODE'])['ORIGINAIRPORTCODE'].count().rename('count')\n",
    "#ts"
   ]
  },
  {
   "cell_type": "code",
   "execution_count": 69,
   "metadata": {
    "collapsed": false,
    "scrolled": true
   },
   "outputs": [
    {
     "data": {
      "text/plain": [
       "<matplotlib.axes._subplots.AxesSubplot at 0x1a9dc0d2160>"
      ]
     },
     "execution_count": 69,
     "metadata": {},
     "output_type": "execute_result"
    },
    {
     "data": {
      "image/png": "[encoded data removed]",
      "text/plain": [
       "<Figure size 432x288 with 1 Axes>"
      ]
     },
     "metadata": {
      "needs_background": "light"
     },
     "output_type": "display_data"
    }
   ],
   "source": [
    "df['MONTH']=df['FLIGHTDATETIME_'].dt.month\n",
    "ts=df.groupby(['MONTH'])['FLIGHTDATETIME_'].count().rename('count').reset_index()\n",
    "sns.barplot(x='MONTH',y='count',data=ts)"
   ]
  },
  {
   "cell_type": "code",
   "execution_count": 70,
   "metadata": {
    "collapsed": false,
    "scrolled": false
   },
   "outputs": [
    {
     "data": {
      "text/plain": [
       "<matplotlib.axes._subplots.AxesSubplot at 0x1a9974807f0>"
      ]
     },
     "execution_count": 70,
     "metadata": {},
     "output_type": "execute_result"
    },
    {
     "data": {
      "image/png": "[encoded data removed]",
      "text/plain": [
       "<Figure size 432x288 with 1 Axes>"
      ]
     },
     "metadata": {
      "needs_background": "light"
     },
     "output_type": "display_data"
    }
   ],
   "source": [
    "df['WEEKDAY']=df['FLIGHTDATETIME_'].dt.weekday\n",
    "ts=df.groupby(['WEEKDAY'])['FLIGHTDATETIME_'].count().rename('count').reset_index()\n",
    "sns.barplot(x='WEEKDAY',y='count',data=ts)"
   ]
  },
  {
   "cell_type": "code",
   "execution_count": 71,
   "metadata": {
    "collapsed": false
   },
   "outputs": [
    {
     "data": {
      "text/plain": [
       "(array([ 0,  1,  2,  3,  4,  5,  6,  7,  8,  9, 10, 11, 12, 13, 14, 15, 16,\n",
       "        17, 18, 19, 20]), <a list of 21 Text xticklabel objects>)"
      ]
     },
     "execution_count": 71,
     "metadata": {},
     "output_type": "execute_result"
    },
    {
     "data": {
      "image/png": "[encoded data removed]",
      "text/plain": [
       "<Figure size 432x288 with 1 Axes>"
      ]
     },
     "metadata": {
      "needs_background": "light"
     },
     "output_type": "display_data"
    }
   ],
   "source": [
    "df['YEAR']=df['FLIGHTDATETIME_'].dt.year\n",
    "ts=df.groupby(['YEAR'])['FLIGHTDATETIME_'].count().rename('count').reset_index()\n",
    "sns.barplot(x='YEAR',y='count',data=ts)\n",
    "plt.xticks(rotation=60)"
   ]
  },
  {
   "cell_type": "code",
   "execution_count": 72,
   "metadata": {
    "collapsed": false
   },
   "outputs": [
    {
     "data": {
      "text/html": [
       "<div>\n",
       "<style scoped>\n",
       "    .dataframe tbody tr th:only-of-type {\n",
       "        vertical-align: middle;\n",
       "    }\n",
       "\n",
       "    .dataframe tbody tr th {\n",
       "        vertical-align: top;\n",
       "    }\n",
       "\n",
       "    .dataframe thead th {\n",
       "        text-align: right;\n",
       "    }\n",
       "</style>\n",
       "<table border=\"1\" class=\"dataframe\">\n",
       "  <thead>\n",
       "    <tr style=\"text-align: right;\">\n",
       "      <th></th>\n",
       "      <th>TRANSACTIONID</th>\n",
       "      <th>FLIGHTDATE</th>\n",
       "      <th>AIRLINECODE</th>\n",
       "      <th>AIRLINENAME</th>\n",
       "      <th>TAILNUM</th>\n",
       "      <th>FLIGHTNUM</th>\n",
       "      <th>ORIGINAIRPORTCODE</th>\n",
       "      <th>ORIGAIRPORTNAME</th>\n",
       "      <th>ORIGINCITYNAME</th>\n",
       "      <th>ORIGINSTATE</th>\n",
       "      <th>ORIGINSTATENAME</th>\n",
       "      <th>DESTAIRPORTCODE</th>\n",
       "      <th>DESTAIRPORTNAME</th>\n",
       "      <th>DESTCITYNAME</th>\n",
       "      <th>DESTSTATE</th>\n",
       "      <th>DESTSTATENAME</th>\n",
       "      <th>CRSDEPTIME</th>\n",
       "      <th>DEPTIME</th>\n",
       "      <th>DEPDELAY</th>\n",
       "      <th>TAXIOUT</th>\n",
       "      <th>WHEELSOFF</th>\n",
       "      <th>WHEELSON</th>\n",
       "      <th>TAXIIN</th>\n",
       "      <th>CRSARRTIME</th>\n",
       "      <th>ARRTIME</th>\n",
       "      <th>ARRDELAY</th>\n",
       "      <th>CRSELAPSEDTIME</th>\n",
       "      <th>ACTUALELAPSEDTIME</th>\n",
       "      <th>CANCELLED</th>\n",
       "      <th>DIVERTED</th>\n",
       "      <th>DISTANCE</th>\n",
       "      <th>FLIGHTDATE_</th>\n",
       "      <th>CRSDEPTIME_</th>\n",
       "      <th>FLIGHTDATETIME_</th>\n",
       "      <th>DEPTIME_</th>\n",
       "      <th>DEPDELAY_</th>\n",
       "      <th>ARRDELAY_</th>\n",
       "      <th>CRSELAPSEDTIME_</th>\n",
       "      <th>ACTUALELAPSEDTIME_</th>\n",
       "      <th>ARRTIME_</th>\n",
       "      <th>NEXTDAYARR_</th>\n",
       "      <th>DEPDELAYGT15_</th>\n",
       "      <th>MONTH</th>\n",
       "      <th>WEEKDAY</th>\n",
       "      <th>YEAR</th>\n",
       "    </tr>\n",
       "  </thead>\n",
       "  <tbody>\n",
       "  </tbody>\n",
       "</table>\n",
       "</div>"
      ],
      "text/plain": [
       "Empty DataFrame\n",
       "Columns: [TRANSACTIONID, FLIGHTDATE, AIRLINECODE, AIRLINENAME, TAILNUM, FLIGHTNUM, ORIGINAIRPORTCODE, ORIGAIRPORTNAME, ORIGINCITYNAME, ORIGINSTATE, ORIGINSTATENAME, DESTAIRPORTCODE, DESTAIRPORTNAME, DESTCITYNAME, DESTSTATE, DESTSTATENAME, CRSDEPTIME, DEPTIME, DEPDELAY, TAXIOUT, WHEELSOFF, WHEELSON, TAXIIN, CRSARRTIME, ARRTIME, ARRDELAY, CRSELAPSEDTIME, ACTUALELAPSEDTIME, CANCELLED, DIVERTED, DISTANCE, FLIGHTDATE_, CRSDEPTIME_, FLIGHTDATETIME_, DEPTIME_, DEPDELAY_, ARRDELAY_, CRSELAPSEDTIME_, ACTUALELAPSEDTIME_, ARRTIME_, NEXTDAYARR_, DEPDELAYGT15_, MONTH, WEEKDAY, YEAR]\n",
       "Index: []"
      ]
     },
     "execution_count": 72,
     "metadata": {},
     "output_type": "execute_result"
    }
   ],
   "source": [
    "#check primary key\n",
    "duplicateID=df[df['TRANSACTIONID'].duplicated()]\n",
    "duplicateID"
   ]
  },
  {
   "cell_type": "code",
   "execution_count": 243,
   "metadata": {
    "collapsed": true
   },
   "outputs": [],
   "source": [
    "df.ARRTIME_=df.ARRTIME_.map(lambda x: x if x != 'NaT' else None)"
   ]
  },
  {
   "cell_type": "code",
   "execution_count": 245,
   "metadata": {
    "collapsed": true
   },
   "outputs": [],
   "source": [
    "df.DEPTIME_=df.DEPTIME_.map(lambda x: x if x != 'NaT' else None)"
   ]
  },
  {
   "cell_type": "code",
   "execution_count": 246,
   "metadata": {
    "collapsed": true
   },
   "outputs": [],
   "source": [
    "#df.WHEELSOFF_=df.WHEELSOFF_.map(lambda x: x if x != 'NaT' else None)"
   ]
  },
  {
   "cell_type": "code",
   "execution_count": 247,
   "metadata": {
    "collapsed": true
   },
   "outputs": [],
   "source": [
    "#df.WHEELSON_=df.WHEELSON_.map(lambda x: x if x != 'NaT' else None)"
   ]
  },
  {
   "cell_type": "code",
   "execution_count": 73,
   "metadata": {
    "collapsed": false
   },
   "outputs": [
    {
     "data": {
      "text/plain": [
       "TRANSACTIONID         False\n",
       "FLIGHTDATE            False\n",
       "AIRLINECODE           False\n",
       "AIRLINENAME           False\n",
       "TAILNUM                True\n",
       "FLIGHTNUM             False\n",
       "ORIGINAIRPORTCODE     False\n",
       "ORIGAIRPORTNAME       False\n",
       "ORIGINCITYNAME        False\n",
       "ORIGINSTATE            True\n",
       "ORIGINSTATENAME        True\n",
       "DESTAIRPORTCODE       False\n",
       "DESTAIRPORTNAME       False\n",
       "DESTCITYNAME          False\n",
       "DESTSTATE              True\n",
       "DESTSTATENAME          True\n",
       "CRSDEPTIME            False\n",
       "DEPTIME                True\n",
       "DEPDELAY               True\n",
       "TAXIOUT                True\n",
       "WHEELSOFF              True\n",
       "WHEELSON               True\n",
       "TAXIIN                 True\n",
       "CRSARRTIME            False\n",
       "ARRTIME                True\n",
       "ARRDELAY               True\n",
       "CRSELAPSEDTIME         True\n",
       "ACTUALELAPSEDTIME      True\n",
       "CANCELLED             False\n",
       "DIVERTED              False\n",
       "DISTANCE              False\n",
       "FLIGHTDATE_           False\n",
       "CRSDEPTIME_           False\n",
       "FLIGHTDATETIME_       False\n",
       "DEPTIME_               True\n",
       "DEPDELAY_             False\n",
       "ARRDELAY_             False\n",
       "CRSELAPSEDTIME_       False\n",
       "ACTUALELAPSEDTIME_    False\n",
       "ARRTIME_               True\n",
       "NEXTDAYARR_            True\n",
       "DEPDELAYGT15_          True\n",
       "MONTH                 False\n",
       "WEEKDAY               False\n",
       "YEAR                  False\n",
       "dtype: bool"
      ]
     },
     "execution_count": 73,
     "metadata": {},
     "output_type": "execute_result"
    }
   ],
   "source": [
    "#check missing value\n",
    "missing=pd.isnull(df).any()\n",
    "missing"
   ]
  },
  {
   "cell_type": "code",
   "execution_count": 74,
   "metadata": {
    "collapsed": true
   },
   "outputs": [],
   "source": [
    "def get_mile(distance):\n",
    "    try:\n",
    "        miles = re.search('(\\d+)',distance, re.IGNORECASE)\n",
    "        if miles:\n",
    "            return int(miles.group(1))\n",
    "        else: return 0\n",
    "    except ValueError:\n",
    "        return None"
   ]
  },
  {
   "cell_type": "code",
   "execution_count": 75,
   "metadata": {
    "collapsed": true
   },
   "outputs": [],
   "source": [
    "df['DISTANCE_']=df['DISTANCE'].apply(get_mile)"
   ]
  },
  {
   "cell_type": "code",
   "execution_count": 79,
   "metadata": {
    "collapsed": true
   },
   "outputs": [],
   "source": [
    "def get_airport(name):\n",
    "    try:\n",
    "        airport = re.search(':(.*)',name, re.IGNORECASE)\n",
    "        if airport:\n",
    "            return airport.group(1)\n",
    "        else: return 'INVALID VALUE' \n",
    "    except ValueError:\n",
    "        return None"
   ]
  },
  {
   "cell_type": "code",
   "execution_count": 10,
   "metadata": {
    "collapsed": true
   },
   "outputs": [],
   "source": [
    "def clean_tail(name):\n",
    "    try:\n",
    "        tailnum = re.search('[\\s|\\w|\\d|@]',name, re.IGNORECASE)\n",
    "        if tailnum:\n",
    "            blank = re.search('\\S',name, re.IGNORECASE)\n",
    "            if blank:\n",
    "                return name\n",
    "            else: return 'UNKNOW'\n",
    "        else: return 'INVALID VALUE' \n",
    "    except ValueError:\n",
    "        return 'UNKNOW'"
   ]
  },
  {
   "cell_type": "code",
   "execution_count": 11,
   "metadata": {
    "collapsed": true
   },
   "outputs": [],
   "source": [
    "df['TAILNUM_']=df['TAILNUM'].astype(str).apply(clean_tail)"
   ]
  },
  {
   "cell_type": "raw",
   "metadata": {},
   "source": []
  },
  {
   "cell_type": "code",
   "execution_count": 28,
   "metadata": {
    "collapsed": false
   },
   "outputs": [
    {
     "name": "stdout",
     "output_type": "stream",
     "text": [
      "<_sre.SRE_Match object; span=(0, 21), match='United Air Lines Inc.'>\n"
     ]
    }
   ],
   "source": [
    "textt='United Air Lines Inc.'\n",
    "line=re.search('(.*)|Inc\\.|Co\\.]',textt)\n",
    "print(line)"
   ]
  },
  {
   "cell_type": "code",
   "execution_count": 24,
   "metadata": {
    "collapsed": true
   },
   "outputs": [],
   "source": [
    "def get_airline_(name):\n",
    "    try:\n",
    "        airline = re.search('(.*)|Inc\\.|Co\\.]',name)\n",
    "        if airline:\n",
    "            return airline.group(1)\n",
    "        else: return 'INVALID VALUE' \n",
    "    except ValueError:\n",
    "        return None"
   ]
  },
  {
   "cell_type": "code",
   "execution_count": 14,
   "metadata": {
    "collapsed": true
   },
   "outputs": [],
   "source": [
    "def get_airline(name):\n",
    "    try:\n",
    "        airline = re.search('(.*):',name, re.IGNORECASE)\n",
    "        if airline:\n",
    "            return airline.group(1)\n",
    "        else: return 'INVALID VALUE' \n",
    "    except ValueError:\n",
    "        return None"
   ]
  },
  {
   "cell_type": "code",
   "execution_count": 81,
   "metadata": {
    "collapsed": true
   },
   "outputs": [],
   "source": [
    "df['DESTAIRPORTNAME_']=df['DESTAIRPORTNAME'].apply(get_airport)"
   ]
  },
  {
   "cell_type": "code",
   "execution_count": 82,
   "metadata": {
    "collapsed": true
   },
   "outputs": [],
   "source": [
    "df['ORIGAIRPORTNAME_']=df['ORIGAIRPORTNAME'].apply(get_airport)"
   ]
  },
  {
   "cell_type": "code",
   "execution_count": 25,
   "metadata": {
    "collapsed": true
   },
   "outputs": [],
   "source": [
    "df['AIRLINENAME_2']=df['AIRLINENAME_'].apply(get_airline_)"
   ]
  },
  {
   "cell_type": "code",
   "execution_count": 142,
   "metadata": {
    "collapsed": false
   },
   "outputs": [
    {
     "data": {
      "text/html": [
       "<div>\n",
       "<style scoped>\n",
       "    .dataframe tbody tr th:only-of-type {\n",
       "        vertical-align: middle;\n",
       "    }\n",
       "\n",
       "    .dataframe tbody tr th {\n",
       "        vertical-align: top;\n",
       "    }\n",
       "\n",
       "    .dataframe thead th {\n",
       "        text-align: right;\n",
       "    }\n",
       "</style>\n",
       "<table border=\"1\" class=\"dataframe\">\n",
       "  <thead>\n",
       "    <tr style=\"text-align: right;\">\n",
       "      <th></th>\n",
       "      <th>DISTANCE_</th>\n",
       "      <th>AIRLINENAME_</th>\n",
       "      <th>ORIGAIRPORTNAME_</th>\n",
       "      <th>DESTAIRPORTNAME_</th>\n",
       "    </tr>\n",
       "  </thead>\n",
       "  <tbody>\n",
       "    <tr>\n",
       "      <th>0</th>\n",
       "      <td>580</td>\n",
       "      <td>Southwest Airlines Co.</td>\n",
       "      <td>Albuquerque International Sunport</td>\n",
       "      <td>Dallas Love Field</td>\n",
       "    </tr>\n",
       "    <tr>\n",
       "      <th>1</th>\n",
       "      <td>744</td>\n",
       "      <td>Continental Air Lines Inc.</td>\n",
       "      <td>Albuquerque International Sunport</td>\n",
       "      <td>George Bush Intercontinental/Houston</td>\n",
       "    </tr>\n",
       "    <tr>\n",
       "      <th>2</th>\n",
       "      <td>718</td>\n",
       "      <td>Southwest Airlines Co.</td>\n",
       "      <td>Albuquerque International Sunport</td>\n",
       "      <td>Kansas City International</td>\n",
       "    </tr>\n",
       "    <tr>\n",
       "      <th>3</th>\n",
       "      <td>487</td>\n",
       "      <td>Southwest Airlines Co.</td>\n",
       "      <td>Albuquerque International Sunport</td>\n",
       "      <td>McCarran International</td>\n",
       "    </tr>\n",
       "    <tr>\n",
       "      <th>4</th>\n",
       "      <td>744</td>\n",
       "      <td>Continental Air Lines Inc.</td>\n",
       "      <td>Albuquerque International Sunport</td>\n",
       "      <td>George Bush Intercontinental/Houston</td>\n",
       "    </tr>\n",
       "  </tbody>\n",
       "</table>\n",
       "</div>"
      ],
      "text/plain": [
       "   DISTANCE_                AIRLINENAME_                    ORIGAIRPORTNAME_  \\\n",
       "0        580      Southwest Airlines Co.   Albuquerque International Sunport   \n",
       "1        744  Continental Air Lines Inc.   Albuquerque International Sunport   \n",
       "2        718      Southwest Airlines Co.   Albuquerque International Sunport   \n",
       "3        487      Southwest Airlines Co.   Albuquerque International Sunport   \n",
       "4        744  Continental Air Lines Inc.   Albuquerque International Sunport   \n",
       "\n",
       "                        DESTAIRPORTNAME_  \n",
       "0                      Dallas Love Field  \n",
       "1   George Bush Intercontinental/Houston  \n",
       "2              Kansas City International  \n",
       "3                 McCarran International  \n",
       "4   George Bush Intercontinental/Houston  "
      ]
     },
     "execution_count": 142,
     "metadata": {},
     "output_type": "execute_result"
    }
   ],
   "source": [
    "df.loc[:,['DISTANCE_','AIRLINENAME_','ORIGAIRPORTNAME_','DESTAIRPORTNAME_']].head(5)"
   ]
  },
  {
   "cell_type": "code",
   "execution_count": 3,
   "metadata": {
    "collapsed": true
   },
   "outputs": [],
   "source": [
    "import pickle"
   ]
  },
  {
   "cell_type": "code",
   "execution_count": 95,
   "metadata": {
    "collapsed": false
   },
   "outputs": [
    {
     "data": {
      "text/plain": [
       "(1191805, 50)"
      ]
     },
     "execution_count": 95,
     "metadata": {},
     "output_type": "execute_result"
    }
   ],
   "source": [
    "df.shape"
   ]
  },
  {
   "cell_type": "code",
   "execution_count": 250,
   "metadata": {
    "collapsed": true
   },
   "outputs": [],
   "source": [
    "df_sm = df.sample(n=10000,random_state=828)"
   ]
  },
  {
   "cell_type": "code",
   "execution_count": 265,
   "metadata": {
    "collapsed": true
   },
   "outputs": [],
   "source": [
    "pd.to_pickle(df, \"./dummy_b.pkl\")"
   ]
  },
  {
   "cell_type": "code",
   "execution_count": 101,
   "metadata": {
    "collapsed": false
   },
   "outputs": [
    {
     "data": {
      "text/html": [
       "<div>\n",
       "<style scoped>\n",
       "    .dataframe tbody tr th:only-of-type {\n",
       "        vertical-align: middle;\n",
       "    }\n",
       "\n",
       "    .dataframe tbody tr th {\n",
       "        vertical-align: top;\n",
       "    }\n",
       "\n",
       "    .dataframe thead th {\n",
       "        text-align: right;\n",
       "    }\n",
       "</style>\n",
       "<table border=\"1\" class=\"dataframe\">\n",
       "  <thead>\n",
       "    <tr style=\"text-align: right;\">\n",
       "      <th></th>\n",
       "      <th>CANCELLED</th>\n",
       "      <th>count</th>\n",
       "    </tr>\n",
       "  </thead>\n",
       "  <tbody>\n",
       "    <tr>\n",
       "      <th>0</th>\n",
       "      <td>0</td>\n",
       "      <td>347545</td>\n",
       "    </tr>\n",
       "    <tr>\n",
       "      <th>1</th>\n",
       "      <td>1</td>\n",
       "      <td>8160</td>\n",
       "    </tr>\n",
       "    <tr>\n",
       "      <th>2</th>\n",
       "      <td>F</td>\n",
       "      <td>178357</td>\n",
       "    </tr>\n",
       "    <tr>\n",
       "      <th>3</th>\n",
       "      <td>False</td>\n",
       "      <td>637289</td>\n",
       "    </tr>\n",
       "    <tr>\n",
       "      <th>4</th>\n",
       "      <td>T</td>\n",
       "      <td>4084</td>\n",
       "    </tr>\n",
       "    <tr>\n",
       "      <th>5</th>\n",
       "      <td>True</td>\n",
       "      <td>16370</td>\n",
       "    </tr>\n",
       "  </tbody>\n",
       "</table>\n",
       "</div>"
      ],
      "text/plain": [
       "  CANCELLED   count\n",
       "0         0  347545\n",
       "1         1    8160\n",
       "2         F  178357\n",
       "3     False  637289\n",
       "4         T    4084\n",
       "5      True   16370"
      ]
     },
     "execution_count": 101,
     "metadata": {},
     "output_type": "execute_result"
    }
   ],
   "source": [
    "cancel=df.groupby(['CANCELLED'])['CANCELLED'].count().rename('count').reset_index()\n",
    "cancel\n"
   ]
  },
  {
   "cell_type": "code",
   "execution_count": 102,
   "metadata": {
    "collapsed": false
   },
   "outputs": [
    {
     "data": {
      "text/html": [
       "<div>\n",
       "<style scoped>\n",
       "    .dataframe tbody tr th:only-of-type {\n",
       "        vertical-align: middle;\n",
       "    }\n",
       "\n",
       "    .dataframe tbody tr th {\n",
       "        vertical-align: top;\n",
       "    }\n",
       "\n",
       "    .dataframe thead th {\n",
       "        text-align: right;\n",
       "    }\n",
       "</style>\n",
       "<table border=\"1\" class=\"dataframe\">\n",
       "  <thead>\n",
       "    <tr style=\"text-align: right;\">\n",
       "      <th></th>\n",
       "      <th>DIVERTED</th>\n",
       "      <th>count</th>\n",
       "    </tr>\n",
       "  </thead>\n",
       "  <tbody>\n",
       "    <tr>\n",
       "      <th>0</th>\n",
       "      <td>0</td>\n",
       "      <td>354906</td>\n",
       "    </tr>\n",
       "    <tr>\n",
       "      <th>1</th>\n",
       "      <td>1</td>\n",
       "      <td>799</td>\n",
       "    </tr>\n",
       "    <tr>\n",
       "      <th>2</th>\n",
       "      <td>F</td>\n",
       "      <td>426572</td>\n",
       "    </tr>\n",
       "    <tr>\n",
       "      <th>3</th>\n",
       "      <td>False</td>\n",
       "      <td>407681</td>\n",
       "    </tr>\n",
       "    <tr>\n",
       "      <th>4</th>\n",
       "      <td>T</td>\n",
       "      <td>966</td>\n",
       "    </tr>\n",
       "    <tr>\n",
       "      <th>5</th>\n",
       "      <td>True</td>\n",
       "      <td>881</td>\n",
       "    </tr>\n",
       "  </tbody>\n",
       "</table>\n",
       "</div>"
      ],
      "text/plain": [
       "  DIVERTED   count\n",
       "0        0  354906\n",
       "1        1     799\n",
       "2        F  426572\n",
       "3    False  407681\n",
       "4        T     966\n",
       "5     True     881"
      ]
     },
     "execution_count": 102,
     "metadata": {},
     "output_type": "execute_result"
    }
   ],
   "source": [
    "DIVERTED=df.groupby(['DIVERTED'])['DIVERTED'].count().rename('count').reset_index()\n",
    "DIVERTED"
   ]
  },
  {
   "cell_type": "code",
   "execution_count": 3,
   "metadata": {
    "collapsed": false
   },
   "outputs": [],
   "source": [
    "%load_ext dotenv\n",
    "%dotenv"
   ]
  },
  {
   "cell_type": "code",
   "execution_count": 261,
   "metadata": {
    "collapsed": true
   },
   "outputs": [],
   "source": [
    "def create_stg_tb(cursor):\n",
    "    cursor.execute(\"\"\"\n",
    "        drop table if exists STG_FACT_FLIGHTS;\n",
    "        create table if not exists STG_FACT_FLIGHTS (\n",
    "            ID int not null, TRANSACTIONID int not null, \\\n",
    "            FLIGHTDATE date, AIRLINECODE char(2), TAILNUM text, FLIGHTNUM int, \\\n",
    "            ORIGINAIRPORTCODE char(3), DESTAIRPORTCODE char(3), CRSDEPTIME timestamp, DEPTIME timestamp , DEPDELAY float, \\\n",
    "             CRSARRTIME timestamp, ARRTIME timestamp, ARRDELAY float, \\\n",
    "            CRSELAPSEDTIME float, ACTUALELAPSEDTIME float, CANCELLED varchar(5),  DIVERTED varchar(5), DISTANCE int,\\\n",
    "            DEPDELAYGT15  float, NEXTDAYARR float, FLIGHTDATETIME timestamp,\\\n",
    "            primary key (ID) \n",
    "        );\n",
    "    \"\"\")"
   ]
  },
  {
   "cell_type": "code",
   "execution_count": 24,
   "metadata": {
    "collapsed": true
   },
   "outputs": [],
   "source": [
    "conn = psycopg2.connect('host={} dbname={} user={} password={}'.format(os.environ.get('HOST')\\\n",
    "                                                                    ,os.environ.get('DATABASE')\\\n",
    "                                                                   ,os.environ.get('USER')\\\n",
    "                                                                    ,os.environ.get('PASSWORD')))\n",
    "conn.autocommit =True"
   ]
  },
  {
   "cell_type": "code",
   "execution_count": 263,
   "metadata": {
    "collapsed": true
   },
   "outputs": [],
   "source": [
    "with conn.cursor() as cursor:\n",
    "    create_stg_tb(cursor)"
   ]
  },
  {
   "cell_type": "code",
   "execution_count": 23,
   "metadata": {
    "collapsed": true
   },
   "outputs": [],
   "source": [
    "conn.close()"
   ]
  },
  {
   "cell_type": "code",
   "execution_count": 257,
   "metadata": {
    "collapsed": false
   },
   "outputs": [
    {
     "data": {
      "text/html": [
       "<div>\n",
       "<style scoped>\n",
       "    .dataframe tbody tr th:only-of-type {\n",
       "        vertical-align: middle;\n",
       "    }\n",
       "\n",
       "    .dataframe tbody tr th {\n",
       "        vertical-align: top;\n",
       "    }\n",
       "\n",
       "    .dataframe thead th {\n",
       "        text-align: right;\n",
       "    }\n",
       "</style>\n",
       "<table border=\"1\" class=\"dataframe\">\n",
       "  <thead>\n",
       "    <tr style=\"text-align: right;\">\n",
       "      <th></th>\n",
       "      <th>TRANSACTIONID</th>\n",
       "      <th>FLIGHTDATE</th>\n",
       "      <th>AIRLINECODE</th>\n",
       "      <th>TAILNUM</th>\n",
       "      <th>FLIGHTNUM</th>\n",
       "      <th>ORIGINAIRPORTCODE</th>\n",
       "      <th>DESTAIRPORTCODE</th>\n",
       "      <th>CRSDEPTIME</th>\n",
       "      <th>DEPTIME</th>\n",
       "      <th>DEPDELAY</th>\n",
       "      <th>CRSARRTIME</th>\n",
       "      <th>ARRTIME</th>\n",
       "      <th>ARRDELAY</th>\n",
       "      <th>CRSELAPSEDTIME</th>\n",
       "      <th>ACTUALELAPSEDTIME</th>\n",
       "      <th>CANCELLED</th>\n",
       "      <th>DIVERTED</th>\n",
       "      <th>DISTANCE</th>\n",
       "      <th>DEPDELAYGT15</th>\n",
       "      <th>NEXTDAYARR</th>\n",
       "      <th>FLIGHTDATETIME</th>\n",
       "    </tr>\n",
       "  </thead>\n",
       "  <tbody>\n",
       "    <tr>\n",
       "      <th>0</th>\n",
       "      <td>54548800</td>\n",
       "      <td>2002-01-01</td>\n",
       "      <td>WN</td>\n",
       "      <td>N103@@</td>\n",
       "      <td>1425</td>\n",
       "      <td>ABQ</td>\n",
       "      <td>DAL</td>\n",
       "      <td>1990-01-01 14:25:00</td>\n",
       "      <td>1990-01-01 14:25:00</td>\n",
       "      <td>0.0</td>\n",
       "      <td>1990-01-01 16:55:00</td>\n",
       "      <td>1990-01-01 16:52:00</td>\n",
       "      <td>-3.0</td>\n",
       "      <td>90.0</td>\n",
       "      <td>87.0</td>\n",
       "      <td>F</td>\n",
       "      <td>False</td>\n",
       "      <td>580</td>\n",
       "      <td>0.0</td>\n",
       "      <td>147.0</td>\n",
       "      <td>2002-01-01 14:25:00</td>\n",
       "    </tr>\n",
       "    <tr>\n",
       "      <th>1</th>\n",
       "      <td>55872300</td>\n",
       "      <td>2002-01-01</td>\n",
       "      <td>CO</td>\n",
       "      <td>N83872</td>\n",
       "      <td>150</td>\n",
       "      <td>ABQ</td>\n",
       "      <td>IAH</td>\n",
       "      <td>1990-01-01 11:30:00</td>\n",
       "      <td>1990-01-01 11:36:00</td>\n",
       "      <td>6.0</td>\n",
       "      <td>1990-01-01 14:26:00</td>\n",
       "      <td>1990-01-01 14:35:00</td>\n",
       "      <td>9.0</td>\n",
       "      <td>116.0</td>\n",
       "      <td>119.0</td>\n",
       "      <td>False</td>\n",
       "      <td>F</td>\n",
       "      <td>744</td>\n",
       "      <td>6.0</td>\n",
       "      <td>179.0</td>\n",
       "      <td>2002-01-01 11:30:00</td>\n",
       "    </tr>\n",
       "    <tr>\n",
       "      <th>2</th>\n",
       "      <td>54388800</td>\n",
       "      <td>2002-01-01</td>\n",
       "      <td>WN</td>\n",
       "      <td>N334@@</td>\n",
       "      <td>249</td>\n",
       "      <td>ABQ</td>\n",
       "      <td>MCI</td>\n",
       "      <td>1990-01-01 12:15:00</td>\n",
       "      <td>1990-01-01 13:38:00</td>\n",
       "      <td>83.0</td>\n",
       "      <td>1990-01-01 15:00:00</td>\n",
       "      <td>1990-01-01 16:20:00</td>\n",
       "      <td>80.0</td>\n",
       "      <td>105.0</td>\n",
       "      <td>102.0</td>\n",
       "      <td>F</td>\n",
       "      <td>False</td>\n",
       "      <td>718</td>\n",
       "      <td>83.0</td>\n",
       "      <td>162.0</td>\n",
       "      <td>2002-01-01 12:15:00</td>\n",
       "    </tr>\n",
       "    <tr>\n",
       "      <th>3</th>\n",
       "      <td>54486500</td>\n",
       "      <td>2002-01-01</td>\n",
       "      <td>WN</td>\n",
       "      <td>N699@@</td>\n",
       "      <td>902</td>\n",
       "      <td>ABQ</td>\n",
       "      <td>LAS</td>\n",
       "      <td>1990-01-01 19:25:00</td>\n",
       "      <td>1990-01-01 19:25:00</td>\n",
       "      <td>0.0</td>\n",
       "      <td>1990-01-01 19:50:00</td>\n",
       "      <td>1990-01-01 19:48:00</td>\n",
       "      <td>-2.0</td>\n",
       "      <td>85.0</td>\n",
       "      <td>83.0</td>\n",
       "      <td>0</td>\n",
       "      <td>0</td>\n",
       "      <td>487</td>\n",
       "      <td>0.0</td>\n",
       "      <td>23.0</td>\n",
       "      <td>2002-01-01 19:25:00</td>\n",
       "    </tr>\n",
       "    <tr>\n",
       "      <th>4</th>\n",
       "      <td>55878700</td>\n",
       "      <td>2002-01-03</td>\n",
       "      <td>CO</td>\n",
       "      <td>N58606</td>\n",
       "      <td>234</td>\n",
       "      <td>ABQ</td>\n",
       "      <td>IAH</td>\n",
       "      <td>1990-01-01 14:55:00</td>\n",
       "      <td>1990-01-01 14:53:00</td>\n",
       "      <td>-2.0</td>\n",
       "      <td>1990-01-01 17:50:00</td>\n",
       "      <td>1990-01-01 17:47:00</td>\n",
       "      <td>-3.0</td>\n",
       "      <td>115.0</td>\n",
       "      <td>114.0</td>\n",
       "      <td>F</td>\n",
       "      <td>False</td>\n",
       "      <td>744</td>\n",
       "      <td>-2.0</td>\n",
       "      <td>174.0</td>\n",
       "      <td>2002-01-03 14:55:00</td>\n",
       "    </tr>\n",
       "  </tbody>\n",
       "</table>\n",
       "</div>"
      ],
      "text/plain": [
       "   TRANSACTIONID FLIGHTDATE AIRLINECODE TAILNUM  FLIGHTNUM ORIGINAIRPORTCODE  \\\n",
       "0       54548800 2002-01-01          WN  N103@@       1425               ABQ   \n",
       "1       55872300 2002-01-01          CO  N83872        150               ABQ   \n",
       "2       54388800 2002-01-01          WN  N334@@        249               ABQ   \n",
       "3       54486500 2002-01-01          WN  N699@@        902               ABQ   \n",
       "4       55878700 2002-01-03          CO  N58606        234               ABQ   \n",
       "\n",
       "  DESTAIRPORTCODE          CRSDEPTIME             DEPTIME  DEPDELAY  \\\n",
       "0             DAL 1990-01-01 14:25:00 1990-01-01 14:25:00       0.0   \n",
       "1             IAH 1990-01-01 11:30:00 1990-01-01 11:36:00       6.0   \n",
       "2             MCI 1990-01-01 12:15:00 1990-01-01 13:38:00      83.0   \n",
       "3             LAS 1990-01-01 19:25:00 1990-01-01 19:25:00       0.0   \n",
       "4             IAH 1990-01-01 14:55:00 1990-01-01 14:53:00      -2.0   \n",
       "\n",
       "           CRSARRTIME             ARRTIME  ARRDELAY  CRSELAPSEDTIME  \\\n",
       "0 1990-01-01 16:55:00 1990-01-01 16:52:00      -3.0            90.0   \n",
       "1 1990-01-01 14:26:00 1990-01-01 14:35:00       9.0           116.0   \n",
       "2 1990-01-01 15:00:00 1990-01-01 16:20:00      80.0           105.0   \n",
       "3 1990-01-01 19:50:00 1990-01-01 19:48:00      -2.0            85.0   \n",
       "4 1990-01-01 17:50:00 1990-01-01 17:47:00      -3.0           115.0   \n",
       "\n",
       "   ACTUALELAPSEDTIME CANCELLED DIVERTED  DISTANCE  DEPDELAYGT15  NEXTDAYARR  \\\n",
       "0               87.0         F    False       580           0.0       147.0   \n",
       "1              119.0     False        F       744           6.0       179.0   \n",
       "2              102.0         F    False       718          83.0       162.0   \n",
       "3               83.0         0        0       487           0.0        23.0   \n",
       "4              114.0         F    False       744          -2.0       174.0   \n",
       "\n",
       "       FLIGHTDATETIME  \n",
       "0 2002-01-01 14:25:00  \n",
       "1 2002-01-01 11:30:00  \n",
       "2 2002-01-01 12:15:00  \n",
       "3 2002-01-01 19:25:00  \n",
       "4 2002-01-03 14:55:00  "
      ]
     },
     "execution_count": 257,
     "metadata": {},
     "output_type": "execute_result"
    }
   ],
   "source": [
    "stg_flights_data.head()"
   ]
  },
  {
   "cell_type": "code",
   "execution_count": 243,
   "metadata": {
    "collapsed": true
   },
   "outputs": [],
   "source": [
    "stg_flights_data.columns=['TRANSACTIONID',\n",
    " 'FLIGHTDATE',\n",
    " 'AIRLINECODE',\n",
    " 'TAILNUM',\n",
    " 'FLIGHTNUM',\n",
    " 'ORIGINAIRPORTCODE',\n",
    " 'DESTAIRPORTCODE',\n",
    " 'CRSDEPTIME',\n",
    " 'DEPTIME',\n",
    " 'DEPDELAY',\n",
    " 'CRSARRTIME',\n",
    " 'ARRTIME',\n",
    " 'ARRDELAY',\n",
    " 'CRSELAPSEDTIME',\n",
    " 'ACTUALELAPSEDTIME',\n",
    " 'CANCELLED',\n",
    " 'DIVERTED',\n",
    " 'DISTANCE',\n",
    " 'DEPDELAYGT15',\n",
    " 'NEXTDAYARR',\n",
    " 'FLIGHTDATETIME']"
   ]
  },
  {
   "cell_type": "code",
   "execution_count": 254,
   "metadata": {
    "collapsed": true
   },
   "outputs": [],
   "source": [
    "stg_flights_data.to_csv(\"stg_flights_data_b.csv\",index_label='ID')"
   ]
  },
  {
   "cell_type": "code",
   "execution_count": null,
   "metadata": {
    "collapsed": true
   },
   "outputs": [],
   "source": []
  }
 ],
 "metadata": {
  "kernelspec": {
   "display_name": "Python 3",
   "language": "python",
   "name": "python3"
  },
  "language_info": {
   "codemirror_mode": {
    "name": "ipython",
    "version": 3
   },
   "file_extension": ".py",
   "mimetype": "text/x-python",
   "name": "python",
   "nbconvert_exporter": "python",
   "pygments_lexer": "ipython3",
   "version": "3.5.2"
  }
 },
 "nbformat": 4,
 "nbformat_minor": 2
}
